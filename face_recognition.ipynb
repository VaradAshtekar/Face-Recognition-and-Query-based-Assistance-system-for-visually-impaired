{
 "cells": [
  {
   "cell_type": "markdown",
   "id": "49e1d9f9",
   "metadata": {},
   "source": [
    "# Importing Libraries"
   ]
  },
  {
   "cell_type": "code",
   "execution_count": 1,
   "id": "b9da3ade",
   "metadata": {},
   "outputs": [],
   "source": [
    "import numpy as np\n",
    "import cv2 as cv\n",
    "import os\n",
    "from sklearn.metrics import precision_score, recall_score, f1_score, accuracy_score"
   ]
  },
  {
   "cell_type": "markdown",
   "id": "229503d4",
   "metadata": {},
   "source": [
    "The self made dataset consists of total 9k images with 3k per class"
   ]
  },
  {
   "cell_type": "markdown",
   "id": "d340fc85",
   "metadata": {},
   "source": [
    "# Haar Cascade classifier"
   ]
  },
  {
   "cell_type": "code",
   "execution_count": 4,
   "id": "2f4304fd",
   "metadata": {},
   "outputs": [],
   "source": [
    "haar_cascade = cv.CascadeClassifier('haarcascade_frontalface_default.xml')\n",
    "p = []\n",
    "DIR = r'C:\\Users\\varad\\TY_Sem1\\Computer Vision\\Labs\\CoursePROJECT\\Updated_dataset'\n",
    "for i in os.listdir(DIR):\n",
    "    p.append(i)\n"
   ]
  },
  {
   "cell_type": "code",
   "execution_count": 2,
   "id": "e8464921",
   "metadata": {},
   "outputs": [],
   "source": [
    "\n",
    "face_recognizer = cv.face.LBPHFaceRecognizer_create()\n"
   ]
  },
  {
   "cell_type": "code",
   "execution_count": null,
   "id": "09c472f9",
   "metadata": {},
   "outputs": [],
   "source": [
    "\n",
    "face_recognizer.read('model_cp_cv_2.yml')"
   ]
  },
  {
   "cell_type": "code",
   "execution_count": null,
   "id": "22f5c564",
   "metadata": {},
   "outputs": [],
   "source": []
  },
  {
   "cell_type": "code",
   "execution_count": 3,
   "id": "cc98ca95",
   "metadata": {},
   "outputs": [],
   "source": [
    "import random"
   ]
  },
  {
   "cell_type": "code",
   "execution_count": 6,
   "id": "512c6c40",
   "metadata": {},
   "outputs": [],
   "source": [
    "test_x = []\n",
    "actual_labels = []\n",
    "\n",
    "for person in p:\n",
    "    path = os.path.join(DIR, person)\n",
    "    label = p.index(person)\n",
    "    random.shuffle(os.listdir(path))\n",
    "    for img in os.listdir(path)[-600:]:\n",
    "        img_path = os.path.join(path, img)\n",
    "        img = cv.imread(img_path)\n",
    "        gray = cv.cvtColor(img, cv.COLOR_BGR2GRAY)\n",
    "        face_rect = haar_cascade.detectMultiScale(gray, scaleFactor=1.1, minNeighbors=2)\n",
    "        for (x, y, w, h) in face_rect:\n",
    "                faces_roi = gray[y:y+h, x:x+w]\n",
    "                test_x.append(faces_roi)\n",
    "                actual_labels.append(label)"
   ]
  },
  {
   "cell_type": "code",
   "execution_count": 7,
   "id": "e2eb0795",
   "metadata": {},
   "outputs": [
    {
     "data": {
      "text/plain": [
       "2668"
      ]
     },
     "execution_count": 7,
     "metadata": {},
     "output_type": "execute_result"
    }
   ],
   "source": [
    "len(actual_labels)"
   ]
  },
  {
   "cell_type": "code",
   "execution_count": 8,
   "id": "a343ce5c",
   "metadata": {},
   "outputs": [],
   "source": [
    "actual_labels_y = np.array(actual_labels)"
   ]
  },
  {
   "cell_type": "code",
   "execution_count": 9,
   "id": "0d82856d",
   "metadata": {},
   "outputs": [
    {
     "data": {
      "text/plain": [
       "0"
      ]
     },
     "execution_count": 9,
     "metadata": {},
     "output_type": "execute_result"
    }
   ],
   "source": [
    "actual_labels_y[1]"
   ]
  },
  {
   "cell_type": "code",
   "execution_count": 10,
   "id": "abc7694b",
   "metadata": {},
   "outputs": [
    {
     "data": {
      "text/plain": [
       "2668"
      ]
     },
     "execution_count": 10,
     "metadata": {},
     "output_type": "execute_result"
    }
   ],
   "source": [
    "len(test_x)"
   ]
  },
  {
   "cell_type": "code",
   "execution_count": 11,
   "id": "c1cf9895",
   "metadata": {},
   "outputs": [
    {
     "data": {
      "text/plain": [
       "numpy.ndarray"
      ]
     },
     "execution_count": 11,
     "metadata": {},
     "output_type": "execute_result"
    }
   ],
   "source": [
    "type(test_x[1])"
   ]
  },
  {
   "cell_type": "code",
   "execution_count": 12,
   "id": "54d16a30",
   "metadata": {},
   "outputs": [
    {
     "name": "stderr",
     "output_type": "stream",
     "text": [
      "<ipython-input-12-9163ce59e647>:1: VisibleDeprecationWarning: Creating an ndarray from ragged nested sequences (which is a list-or-tuple of lists-or-tuples-or ndarrays with different lengths or shapes) is deprecated. If you meant to do this, you must specify 'dtype=object' when creating the ndarray.\n",
      "  test_X = np.array(test_x)\n"
     ]
    }
   ],
   "source": [
    "test_X = np.array(test_x)"
   ]
  },
  {
   "cell_type": "code",
   "execution_count": 13,
   "id": "e1a7ee3e",
   "metadata": {},
   "outputs": [],
   "source": [
    "test_X = test_X/255"
   ]
  },
  {
   "cell_type": "code",
   "execution_count": 17,
   "id": "fb2dea24",
   "metadata": {},
   "outputs": [],
   "source": [
    "le = LabelEncoder()\n"
   ]
  },
  {
   "cell_type": "code",
   "execution_count": 14,
   "id": "5d0d7c92",
   "metadata": {},
   "outputs": [
    {
     "data": {
      "text/plain": [
       "[0.0,\n",
       " 12.799959311283066,\n",
       " 20.780494407773812,\n",
       " 20.88756819890774,\n",
       " 66.27876540044254]"
      ]
     },
     "execution_count": 14,
     "metadata": {},
     "output_type": "execute_result"
    }
   ],
   "source": [
    "prediction = []\n",
    "conf = []\n",
    "for img in range(0,len(test_x)):\n",
    "    (predictions,confs ) =face_recognizer.predict(test_X[img])            \n",
    "    prediction.append(predictions)\n",
    "    \n",
    "    conf.append(confs)\n",
    "prediction[:5]\n",
    "conf[:5]"
   ]
  },
  {
   "cell_type": "code",
   "execution_count": 15,
   "id": "17c7af65",
   "metadata": {},
   "outputs": [
    {
     "data": {
      "text/plain": [
       "0.0"
      ]
     },
     "execution_count": 15,
     "metadata": {},
     "output_type": "execute_result"
    }
   ],
   "source": [
    "min(conf)"
   ]
  },
  {
   "cell_type": "code",
   "execution_count": 16,
   "id": "566e8b2b",
   "metadata": {},
   "outputs": [],
   "source": [
    "predicted_value_y = np.array(prediction)"
   ]
  },
  {
   "cell_type": "code",
   "execution_count": 17,
   "id": "39054d98",
   "metadata": {},
   "outputs": [
    {
     "data": {
      "text/plain": [
       "0"
      ]
     },
     "execution_count": 17,
     "metadata": {},
     "output_type": "execute_result"
    }
   ],
   "source": [
    "prediction[1]"
   ]
  },
  {
   "cell_type": "code",
   "execution_count": 18,
   "id": "82b92224",
   "metadata": {},
   "outputs": [
    {
     "data": {
      "text/plain": [
       "0.8242128935532234"
      ]
     },
     "execution_count": 18,
     "metadata": {},
     "output_type": "execute_result"
    }
   ],
   "source": [
    "accuracy_score(actual_labels_y, predicted_value_y)"
   ]
  },
  {
   "cell_type": "code",
   "execution_count": 19,
   "id": "94d2c287",
   "metadata": {},
   "outputs": [
    {
     "name": "stdout",
     "output_type": "stream",
     "text": [
      "              precision    recall  f1-score   support\n",
      "\n",
      "       Kapil       0.86      0.80      0.83      1235\n",
      "      Sarang       0.98      0.87      0.93       562\n",
      "       Varad       0.71      0.83      0.76       871\n",
      "\n",
      "    accuracy                           0.82      2668\n",
      "   macro avg       0.85      0.83      0.84      2668\n",
      "weighted avg       0.84      0.82      0.83      2668\n",
      "\n"
     ]
    }
   ],
   "source": [
    "print(classification_report(actual_labels_y, predicted_value_y,target_names=[\"Kapil\", \"Sarang\", \"Varad\"]))"
   ]
  },
  {
   "cell_type": "code",
   "execution_count": 37,
   "id": "2b0beb24",
   "metadata": {},
   "outputs": [
    {
     "name": "stdout",
     "output_type": "stream",
     "text": [
      "Precision: 0.824\n"
     ]
    }
   ],
   "source": [
    "print('Precision: %.3f' % precision_score(actual_labels_y, predicted_value_y, average = 'micro'))"
   ]
  },
  {
   "cell_type": "markdown",
   "id": "8b1583cf",
   "metadata": {},
   "source": [
    "# MTCNN Face Extraction"
   ]
  },
  {
   "cell_type": "code",
   "execution_count": 4,
   "id": "0015d4e4",
   "metadata": {},
   "outputs": [],
   "source": [
    "from mtcnn.mtcnn import MTCNN\n",
    "import cv2 as cv\n",
    "import PIL\n",
    "import os\n",
    "from PIL import Image\n",
    "import numpy as np\n",
    "from numpy import asarray"
   ]
  },
  {
   "cell_type": "code",
   "execution_count": null,
   "id": "ee772f5d",
   "metadata": {},
   "outputs": [],
   "source": []
  },
  {
   "cell_type": "code",
   "execution_count": 5,
   "id": "d467af74",
   "metadata": {},
   "outputs": [],
   "source": [
    "face_detector = MTCNN()\n"
   ]
  },
  {
   "cell_type": "code",
   "execution_count": 8,
   "id": "1e425c7f",
   "metadata": {},
   "outputs": [],
   "source": [
    "new_data = []\n",
    "NEW_DIR = r'C:\\Users\\varad\\TY_Sem1\\Computer Vision\\Labs\\CoursePROJECT\\updated_images'\n",
    "for i in os.listdir(NEW_DIR):\n",
    "    new_data.append(i)\n"
   ]
  },
  {
   "cell_type": "code",
   "execution_count": 9,
   "id": "2f962a6a",
   "metadata": {},
   "outputs": [
    {
     "data": {
      "text/plain": [
       "['kapil', 'sarang', 'varad']"
      ]
     },
     "execution_count": 9,
     "metadata": {},
     "output_type": "execute_result"
    }
   ],
   "source": [
    "new_data"
   ]
  },
  {
   "cell_type": "code",
   "execution_count": 6,
   "id": "5910554c",
   "metadata": {},
   "outputs": [],
   "source": [
    "def face_selection(image):\n",
    "    faces = face_detector.detect_faces(image)\n",
    "    if faces == []:\n",
    "        return image\n",
    "    else:\n",
    "        x1, y1, width, height = faces[0]['box']\n",
    "        x1, y1 = abs(x1), abs(y1)\n",
    "        cropped_face = image[y1:y1+height,x1:x1+width]\n",
    "        return cropped_face"
   ]
  },
  {
   "cell_type": "code",
   "execution_count": 43,
   "id": "f0960462",
   "metadata": {},
   "outputs": [],
   "source": [
    "train_x = []\n",
    "labels = []"
   ]
  },
  {
   "cell_type": "code",
   "execution_count": 44,
   "id": "9c094bf0",
   "metadata": {},
   "outputs": [
    {
     "name": "stdout",
     "output_type": "stream",
     "text": [
      "WARNING:tensorflow:5 out of the last 10 calls to <function Model.make_predict_function.<locals>.predict_function at 0x000002011A036430> triggered tf.function retracing. Tracing is expensive and the excessive number of tracings could be due to (1) creating @tf.function repeatedly in a loop, (2) passing tensors with different shapes, (3) passing Python objects instead of tensors. For (1), please define your @tf.function outside of the loop. For (2), @tf.function has experimental_relax_shapes=True option that relaxes argument shapes that can avoid unnecessary retracing. For (3), please refer to https://www.tensorflow.org/tutorials/customization/performance#python_or_tensor_args and https://www.tensorflow.org/api_docs/python/tf/function for  more details.\n"
     ]
    }
   ],
   "source": [
    "for person in new_data:\n",
    "    path = os.path.join(NEW_DIR, person)\n",
    "    label = new_data.index(person)\n",
    "    for img in os.listdir(path)[:2400]:\n",
    "        img_path = os.path.join(path, img)\n",
    "        img = cv.imread(img_path)\n",
    "        img = cv.resize(img, (380,270))\n",
    "        extracted_face = face_selection(img)\n",
    "        extracted_face = cv.cvtColor(extracted_face, cv.COLOR_BGR2GRAY)        \n",
    "        train_x.append(extracted_face)\n",
    "        labels.append(label)"
   ]
  },
  {
   "cell_type": "code",
   "execution_count": 45,
   "id": "a8f46446",
   "metadata": {},
   "outputs": [],
   "source": [
    "features = np.array(train_x , dtype='object')\n",
    "labels = np.array(labels)\n",
    "features = features/255\n",
    "face_recognizer = cv.face.LBPHFaceRecognizer_create()\n",
    "face_recognizer.train(features, labels)\n",
    "\n",
    "face_recognizer.save('model_sdp_mtcnn.yml')\n",
    "\n",
    "np.save('features_sdp_mtcnn_2.npy',features)\n",
    "np.save('labels_sdp_mtcnn_2.npy',labels)"
   ]
  },
  {
   "cell_type": "markdown",
   "id": "6a04081c",
   "metadata": {},
   "source": [
    "The Model is trained on 7200 images i.e. 80% training data "
   ]
  },
  {
   "cell_type": "code",
   "execution_count": 46,
   "id": "863015b2",
   "metadata": {},
   "outputs": [
    {
     "data": {
      "text/plain": [
       "7200"
      ]
     },
     "execution_count": 46,
     "metadata": {},
     "output_type": "execute_result"
    }
   ],
   "source": [
    "len(train_x)"
   ]
  },
  {
   "cell_type": "code",
   "execution_count": 25,
   "id": "ab8dab10",
   "metadata": {},
   "outputs": [],
   "source": [
    "face_recognizer = cv.face.LBPHFaceRecognizer_create()\n",
    "\n",
    "face_recognizer.read('model_sdp_mtcnn.yml')\n"
   ]
  },
  {
   "cell_type": "code",
   "execution_count": 47,
   "id": "51c6ae31",
   "metadata": {},
   "outputs": [],
   "source": [
    "test_x_mtcnn = []\n",
    "actual_labels_mtcnn = []\n",
    "\n",
    "for person in new_data:\n",
    "    path = os.path.join(NEW_DIR, person)\n",
    "    label = new_data.index(person)\n",
    "    for img in os.listdir(path)[-600:]:\n",
    "        img_path = os.path.join(path, img)\n",
    "        img = cv.imread(img_path)\n",
    "        img = cv.resize(img, (380,270))\n",
    "        extracted_face = face_selection(img)\n",
    "        extracted_face = cv.cvtColor(extracted_face, cv.COLOR_BGR2GRAY)        \n",
    "        test_x_mtcnn.append(extracted_face)\n",
    "        actual_labels_mtcnn.append(label)"
   ]
  },
  {
   "cell_type": "code",
   "execution_count": 48,
   "id": "f992d25a",
   "metadata": {},
   "outputs": [
    {
     "data": {
      "text/plain": [
       "1800"
      ]
     },
     "execution_count": 48,
     "metadata": {},
     "output_type": "execute_result"
    }
   ],
   "source": [
    "len(test_x_mtcnn)"
   ]
  },
  {
   "cell_type": "code",
   "execution_count": 49,
   "id": "21e83658",
   "metadata": {},
   "outputs": [],
   "source": [
    "test_x_mtcnn = np.array(test_x_mtcnn, dtype='object')"
   ]
  },
  {
   "cell_type": "code",
   "execution_count": 50,
   "id": "16f10c69",
   "metadata": {},
   "outputs": [],
   "source": [
    "actual_labels_mtcnn = np.array(actual_labels_mtcnn)"
   ]
  },
  {
   "cell_type": "code",
   "execution_count": 51,
   "id": "55be478a",
   "metadata": {},
   "outputs": [],
   "source": [
    "test_x_mtcnn = test_x_mtcnn/255"
   ]
  },
  {
   "cell_type": "code",
   "execution_count": 52,
   "id": "00842f75",
   "metadata": {},
   "outputs": [
    {
     "data": {
      "text/plain": [
       "[0.0, 0.0, 30.17016856259279, 29.367540468719604, 30.108383657873294]"
      ]
     },
     "execution_count": 52,
     "metadata": {},
     "output_type": "execute_result"
    }
   ],
   "source": [
    "prediction = []\n",
    "conf = []\n",
    "for img in range(0,len(test_x_mtcnn)):\n",
    "    (predictions,confs ) =face_recognizer.predict(test_x_mtcnn[img])            \n",
    "    prediction.append(predictions)\n",
    "    \n",
    "    conf.append(confs)\n",
    "prediction[:5]\n",
    "conf[:5]"
   ]
  },
  {
   "cell_type": "code",
   "execution_count": 53,
   "id": "890dde2c",
   "metadata": {},
   "outputs": [],
   "source": [
    "predicted_value_y = np.array(prediction)"
   ]
  },
  {
   "cell_type": "code",
   "execution_count": 54,
   "id": "f0313a76",
   "metadata": {},
   "outputs": [
    {
     "data": {
      "text/plain": [
       "0.9861111111111112"
      ]
     },
     "execution_count": 54,
     "metadata": {},
     "output_type": "execute_result"
    }
   ],
   "source": [
    "accuracy_score(actual_labels_mtcnn, predicted_value_y)"
   ]
  },
  {
   "cell_type": "markdown",
   "id": "6cb55a48",
   "metadata": {},
   "source": [
    "Accuracy score is 98.611 for 1,800 images from test data"
   ]
  },
  {
   "cell_type": "code",
   "execution_count": 56,
   "id": "e77d696d",
   "metadata": {},
   "outputs": [],
   "source": [
    "from sklearn.metrics import classification_report"
   ]
  },
  {
   "cell_type": "code",
   "execution_count": 57,
   "id": "f341f3ae",
   "metadata": {},
   "outputs": [
    {
     "name": "stdout",
     "output_type": "stream",
     "text": [
      "              precision    recall  f1-score   support\n",
      "\n",
      "       Kapil       0.98      0.98      0.98       600\n",
      "      Sarang       1.00      0.99      1.00       600\n",
      "       Varad       0.97      0.98      0.98       600\n",
      "\n",
      "    accuracy                           0.99      1800\n",
      "   macro avg       0.99      0.99      0.99      1800\n",
      "weighted avg       0.99      0.99      0.99      1800\n",
      "\n"
     ]
    }
   ],
   "source": [
    "print(classification_report(actual_labels_mtcnn, predicted_value_y,target_names=[\"Kapil\", \"Sarang\", \"Varad\"]))"
   ]
  },
  {
   "cell_type": "markdown",
   "id": "8448d437",
   "metadata": {},
   "source": [
    "# Text to speech conversion"
   ]
  },
  {
   "cell_type": "code",
   "execution_count": 10,
   "id": "762f382f",
   "metadata": {},
   "outputs": [],
   "source": [
    "labels_names = {\"Kapil\":0, \"Sarang\": 1, \"Varad\": 2}"
   ]
  },
  {
   "cell_type": "code",
   "execution_count": 9,
   "id": "276beacd",
   "metadata": {},
   "outputs": [],
   "source": [
    "import speech_recognition as sr\n",
    "from gtts import gTTS\n",
    "import os\n",
    "\n",
    "import playsound\n",
    "import pyttsx3"
   ]
  },
  {
   "cell_type": "code",
   "execution_count": null,
   "id": "3ebd4248",
   "metadata": {},
   "outputs": [],
   "source": []
  },
  {
   "cell_type": "code",
   "execution_count": 11,
   "id": "c46c5605",
   "metadata": {},
   "outputs": [],
   "source": [
    "def speech_to_text():\n",
    "    r = sr.Recognizer()\n",
    "    with sr.Microphone() as source:\n",
    "        print(\"Recording...\")\n",
    "        audio = r.listen(source)\n",
    "    data = \"\"\n",
    "    try:\n",
    "        data = r.recognize_google(audio)\n",
    "        print(\"You said: \" + data)\n",
    "    except sr.UnknownValueError:\n",
    "        print(\"Google Speech Recognition did not understand audio\")\n",
    "    except sr.RequestError as e:\n",
    "        print(\"Request Failed; {0}\".format(e))\n",
    "    return data"
   ]
  },
  {
   "cell_type": "code",
   "execution_count": null,
   "id": "b34847b7",
   "metadata": {},
   "outputs": [],
   "source": []
  },
  {
   "cell_type": "code",
   "execution_count": null,
   "id": "5792bd4a",
   "metadata": {},
   "outputs": [],
   "source": []
  },
  {
   "cell_type": "code",
   "execution_count": 12,
   "id": "5f188dd4",
   "metadata": {},
   "outputs": [],
   "source": [
    "import time\n",
    "from itertools import count\n",
    "from multiprocessing import Process"
   ]
  },
  {
   "cell_type": "code",
   "execution_count": 21,
   "id": "fd0bc5e2",
   "metadata": {},
   "outputs": [],
   "source": []
  },
  {
   "cell_type": "code",
   "execution_count": null,
   "id": "4d30c368",
   "metadata": {},
   "outputs": [],
   "source": []
  },
  {
   "cell_type": "markdown",
   "id": "85b38207",
   "metadata": {},
   "source": [
    "Pyttsx is used for text to speech conversion"
   ]
  },
  {
   "cell_type": "code",
   "execution_count": 13,
   "id": "1121d2c3",
   "metadata": {},
   "outputs": [],
   "source": [
    "engine = pyttsx3.init()\n"
   ]
  },
  {
   "cell_type": "code",
   "execution_count": 14,
   "id": "d0c786ec",
   "metadata": {},
   "outputs": [],
   "source": [
    "def text_to_speech_2(original_text):\n",
    "    engine.say(original_text)\n",
    "    engine.runAndWait()"
   ]
  },
  {
   "cell_type": "code",
   "execution_count": 15,
   "id": "8647cead",
   "metadata": {},
   "outputs": [],
   "source": [
    "text_to_speech_2(\"Hi Varad !\")"
   ]
  },
  {
   "cell_type": "code",
   "execution_count": 13,
   "id": "ae22400f",
   "metadata": {},
   "outputs": [],
   "source": []
  },
  {
   "cell_type": "code",
   "execution_count": 53,
   "id": "818bbc37",
   "metadata": {},
   "outputs": [],
   "source": []
  },
  {
   "cell_type": "code",
   "execution_count": null,
   "id": "8a201816",
   "metadata": {},
   "outputs": [],
   "source": []
  },
  {
   "cell_type": "markdown",
   "id": "9b5b1e31",
   "metadata": {},
   "source": [
    "# RecordTracking"
   ]
  },
  {
   "cell_type": "markdown",
   "id": "a189aef7",
   "metadata": {},
   "source": [
    "Creating the .csv file for tracking the person's visit"
   ]
  },
  {
   "cell_type": "code",
   "execution_count": 16,
   "id": "ce07cecf",
   "metadata": {},
   "outputs": [],
   "source": [
    "from datetime import datetime\n",
    "import csv\n",
    "import pandas as pd"
   ]
  },
  {
   "cell_type": "code",
   "execution_count": 17,
   "id": "0781c473",
   "metadata": {},
   "outputs": [],
   "source": [
    "fields = ['Name', 'Timestamp']\n",
    "filename = \"record.csv\"\n"
   ]
  },
  {
   "cell_type": "code",
   "execution_count": 18,
   "id": "469fbb02",
   "metadata": {},
   "outputs": [],
   "source": [
    "fields_2 = ['Name', 'Timestamp','Initial Info','Recent visit speech']\n",
    "filename_2 = \"record_2.csv\"\n"
   ]
  },
  {
   "cell_type": "code",
   "execution_count": 9,
   "id": "b72eecda",
   "metadata": {},
   "outputs": [],
   "source": [
    "rows_2 = [['Ben Affleck', datetime.now().strftime(\"%H:%M\"), 'He is an actor', 'He spoke nicely'],\n",
    "         ['Elton John', datetime.now().strftime(\"%H:%M\"), 'He is the famous singer', 'He sang a song'],\n",
    "         ['Jerry Seinfield', datetime.now().strftime(\"%H:%M\"), 'He is a well known person', 'He visited you']]"
   ]
  },
  {
   "cell_type": "code",
   "execution_count": 20,
   "id": "83859116",
   "metadata": {},
   "outputs": [],
   "source": [
    "rows = [['Ben Affleck', datetime.now().strftime(\"%H:%M\")],\n",
    "         ['Elton John', datetime.now().strftime(\"%H:%M\")],\n",
    "         ['Jerry Seinfield', datetime.now().strftime(\"%H:%M\")]]"
   ]
  },
  {
   "cell_type": "code",
   "execution_count": 10,
   "id": "d3c4ee39",
   "metadata": {},
   "outputs": [],
   "source": [
    "rows_2 = pd.DataFrame(rows_2, columns=fields_2)\n"
   ]
  },
  {
   "cell_type": "code",
   "execution_count": null,
   "id": "fd5ec620",
   "metadata": {},
   "outputs": [],
   "source": [
    "rows = pd.DataFrame(rows, columns=fields)\n"
   ]
  },
  {
   "cell_type": "code",
   "execution_count": 22,
   "id": "829fd62d",
   "metadata": {},
   "outputs": [],
   "source": [
    "rows.to_csv(filename, index=False)"
   ]
  },
  {
   "cell_type": "code",
   "execution_count": 11,
   "id": "5597ad67",
   "metadata": {},
   "outputs": [],
   "source": [
    "rows_2.to_csv(filename_2, index=False)"
   ]
  },
  {
   "cell_type": "code",
   "execution_count": 14,
   "id": "37f101dc",
   "metadata": {},
   "outputs": [],
   "source": [
    "record = pd.read_csv(r\"record.csv\", header=None)"
   ]
  },
  {
   "cell_type": "code",
   "execution_count": 15,
   "id": "df0c0652",
   "metadata": {},
   "outputs": [],
   "source": [
    "record_2 = pd.read_csv(r\"record_2.csv\", header=None)"
   ]
  },
  {
   "cell_type": "code",
   "execution_count": 16,
   "id": "d976c2b3",
   "metadata": {},
   "outputs": [
    {
     "data": {
      "text/html": [
       "<div>\n",
       "<style scoped>\n",
       "    .dataframe tbody tr th:only-of-type {\n",
       "        vertical-align: middle;\n",
       "    }\n",
       "\n",
       "    .dataframe tbody tr th {\n",
       "        vertical-align: top;\n",
       "    }\n",
       "\n",
       "    .dataframe thead th {\n",
       "        text-align: right;\n",
       "    }\n",
       "</style>\n",
       "<table border=\"1\" class=\"dataframe\">\n",
       "  <thead>\n",
       "    <tr style=\"text-align: right;\">\n",
       "      <th></th>\n",
       "      <th>0</th>\n",
       "      <th>1</th>\n",
       "    </tr>\n",
       "  </thead>\n",
       "  <tbody>\n",
       "    <tr>\n",
       "      <th>0</th>\n",
       "      <td>Name</td>\n",
       "      <td>Timestamp</td>\n",
       "    </tr>\n",
       "    <tr>\n",
       "      <th>1</th>\n",
       "      <td>Ben Affleck</td>\n",
       "      <td>19:27</td>\n",
       "    </tr>\n",
       "    <tr>\n",
       "      <th>2</th>\n",
       "      <td>Elton John</td>\n",
       "      <td>19:27</td>\n",
       "    </tr>\n",
       "    <tr>\n",
       "      <th>3</th>\n",
       "      <td>Jerry Seinfield</td>\n",
       "      <td>19:27</td>\n",
       "    </tr>\n",
       "    <tr>\n",
       "      <th>4</th>\n",
       "      <td>Varad</td>\n",
       "      <td>19:27</td>\n",
       "    </tr>\n",
       "    <tr>\n",
       "      <th>5</th>\n",
       "      <td>Varad</td>\n",
       "      <td>19:28</td>\n",
       "    </tr>\n",
       "    <tr>\n",
       "      <th>6</th>\n",
       "      <td>Varad</td>\n",
       "      <td>19:28</td>\n",
       "    </tr>\n",
       "    <tr>\n",
       "      <th>7</th>\n",
       "      <td>Varad</td>\n",
       "      <td>19:28</td>\n",
       "    </tr>\n",
       "    <tr>\n",
       "      <th>8</th>\n",
       "      <td>Varad</td>\n",
       "      <td>19:28</td>\n",
       "    </tr>\n",
       "    <tr>\n",
       "      <th>9</th>\n",
       "      <td>Varad</td>\n",
       "      <td>19:28</td>\n",
       "    </tr>\n",
       "    <tr>\n",
       "      <th>10</th>\n",
       "      <td>Varad</td>\n",
       "      <td>19:28</td>\n",
       "    </tr>\n",
       "    <tr>\n",
       "      <th>11</th>\n",
       "      <td>Varad</td>\n",
       "      <td>19:28</td>\n",
       "    </tr>\n",
       "    <tr>\n",
       "      <th>12</th>\n",
       "      <td>Varad</td>\n",
       "      <td>19:28</td>\n",
       "    </tr>\n",
       "    <tr>\n",
       "      <th>13</th>\n",
       "      <td>Varad</td>\n",
       "      <td>19:28</td>\n",
       "    </tr>\n",
       "    <tr>\n",
       "      <th>14</th>\n",
       "      <td>Varad</td>\n",
       "      <td>19:28</td>\n",
       "    </tr>\n",
       "    <tr>\n",
       "      <th>15</th>\n",
       "      <td>Varad</td>\n",
       "      <td>11:55 PM</td>\n",
       "    </tr>\n",
       "    <tr>\n",
       "      <th>16</th>\n",
       "      <td>Varad</td>\n",
       "      <td>11:55 PM</td>\n",
       "    </tr>\n",
       "    <tr>\n",
       "      <th>17</th>\n",
       "      <td>Varad</td>\n",
       "      <td>11:55 PM</td>\n",
       "    </tr>\n",
       "    <tr>\n",
       "      <th>18</th>\n",
       "      <td>Varad</td>\n",
       "      <td>11:55 PM</td>\n",
       "    </tr>\n",
       "    <tr>\n",
       "      <th>19</th>\n",
       "      <td>Varad</td>\n",
       "      <td>11:55 PM</td>\n",
       "    </tr>\n",
       "    <tr>\n",
       "      <th>20</th>\n",
       "      <td>Varad</td>\n",
       "      <td>11:55 PM</td>\n",
       "    </tr>\n",
       "    <tr>\n",
       "      <th>21</th>\n",
       "      <td>Varad</td>\n",
       "      <td>11:55 PM</td>\n",
       "    </tr>\n",
       "    <tr>\n",
       "      <th>22</th>\n",
       "      <td>Varad</td>\n",
       "      <td>11:55 PM</td>\n",
       "    </tr>\n",
       "    <tr>\n",
       "      <th>23</th>\n",
       "      <td>Varad</td>\n",
       "      <td>11:55 PM</td>\n",
       "    </tr>\n",
       "    <tr>\n",
       "      <th>24</th>\n",
       "      <td>Varad</td>\n",
       "      <td>11:55 PM</td>\n",
       "    </tr>\n",
       "    <tr>\n",
       "      <th>25</th>\n",
       "      <td>Varad</td>\n",
       "      <td>11:55 PM</td>\n",
       "    </tr>\n",
       "    <tr>\n",
       "      <th>26</th>\n",
       "      <td>Varad</td>\n",
       "      <td>11:55 PM</td>\n",
       "    </tr>\n",
       "    <tr>\n",
       "      <th>27</th>\n",
       "      <td>Varad</td>\n",
       "      <td>11:55 PM</td>\n",
       "    </tr>\n",
       "    <tr>\n",
       "      <th>28</th>\n",
       "      <td>Varad</td>\n",
       "      <td>11:55 PM</td>\n",
       "    </tr>\n",
       "    <tr>\n",
       "      <th>29</th>\n",
       "      <td>Varad</td>\n",
       "      <td>11:55 PM</td>\n",
       "    </tr>\n",
       "    <tr>\n",
       "      <th>30</th>\n",
       "      <td>Varad</td>\n",
       "      <td>11:55 PM</td>\n",
       "    </tr>\n",
       "    <tr>\n",
       "      <th>31</th>\n",
       "      <td>Varad</td>\n",
       "      <td>03:28 PM</td>\n",
       "    </tr>\n",
       "    <tr>\n",
       "      <th>32</th>\n",
       "      <td>Varad</td>\n",
       "      <td>03:28 PM</td>\n",
       "    </tr>\n",
       "    <tr>\n",
       "      <th>33</th>\n",
       "      <td>Varad</td>\n",
       "      <td>06:44 PM</td>\n",
       "    </tr>\n",
       "    <tr>\n",
       "      <th>34</th>\n",
       "      <td>Varad</td>\n",
       "      <td>06:44 PM</td>\n",
       "    </tr>\n",
       "    <tr>\n",
       "      <th>35</th>\n",
       "      <td>Varad</td>\n",
       "      <td>08:02 PM</td>\n",
       "    </tr>\n",
       "    <tr>\n",
       "      <th>36</th>\n",
       "      <td>Varad</td>\n",
       "      <td>08:02 PM</td>\n",
       "    </tr>\n",
       "    <tr>\n",
       "      <th>37</th>\n",
       "      <td>Varad</td>\n",
       "      <td>12:54 AM</td>\n",
       "    </tr>\n",
       "    <tr>\n",
       "      <th>38</th>\n",
       "      <td>Varad</td>\n",
       "      <td>12:59 AM</td>\n",
       "    </tr>\n",
       "    <tr>\n",
       "      <th>39</th>\n",
       "      <td>Varad</td>\n",
       "      <td>01:00 AM</td>\n",
       "    </tr>\n",
       "    <tr>\n",
       "      <th>40</th>\n",
       "      <td>Varad</td>\n",
       "      <td>01:00 AM</td>\n",
       "    </tr>\n",
       "    <tr>\n",
       "      <th>41</th>\n",
       "      <td>Varad</td>\n",
       "      <td>01:01 AM</td>\n",
       "    </tr>\n",
       "    <tr>\n",
       "      <th>42</th>\n",
       "      <td>Varad</td>\n",
       "      <td>01:01 AM</td>\n",
       "    </tr>\n",
       "    <tr>\n",
       "      <th>43</th>\n",
       "      <td>Varad</td>\n",
       "      <td>01:01 AM</td>\n",
       "    </tr>\n",
       "    <tr>\n",
       "      <th>44</th>\n",
       "      <td>Varad</td>\n",
       "      <td>01:02 AM</td>\n",
       "    </tr>\n",
       "    <tr>\n",
       "      <th>45</th>\n",
       "      <td>Varad</td>\n",
       "      <td>01:02 AM</td>\n",
       "    </tr>\n",
       "    <tr>\n",
       "      <th>46</th>\n",
       "      <td>Varad</td>\n",
       "      <td>01:02 AM</td>\n",
       "    </tr>\n",
       "    <tr>\n",
       "      <th>47</th>\n",
       "      <td>Varad</td>\n",
       "      <td>01:07 AM</td>\n",
       "    </tr>\n",
       "    <tr>\n",
       "      <th>48</th>\n",
       "      <td>Varad</td>\n",
       "      <td>01:34 AM</td>\n",
       "    </tr>\n",
       "    <tr>\n",
       "      <th>49</th>\n",
       "      <td>Varad</td>\n",
       "      <td>01:34 AM</td>\n",
       "    </tr>\n",
       "    <tr>\n",
       "      <th>50</th>\n",
       "      <td>Varad</td>\n",
       "      <td>01:34 AM</td>\n",
       "    </tr>\n",
       "    <tr>\n",
       "      <th>51</th>\n",
       "      <td>Varad</td>\n",
       "      <td>01:34 AM</td>\n",
       "    </tr>\n",
       "    <tr>\n",
       "      <th>52</th>\n",
       "      <td>Varad</td>\n",
       "      <td>01:34 AM</td>\n",
       "    </tr>\n",
       "    <tr>\n",
       "      <th>53</th>\n",
       "      <td>Varad</td>\n",
       "      <td>01:34 AM</td>\n",
       "    </tr>\n",
       "    <tr>\n",
       "      <th>54</th>\n",
       "      <td>Varad</td>\n",
       "      <td>01:34 AM</td>\n",
       "    </tr>\n",
       "    <tr>\n",
       "      <th>55</th>\n",
       "      <td>Kapil</td>\n",
       "      <td>10:25 AM</td>\n",
       "    </tr>\n",
       "  </tbody>\n",
       "</table>\n",
       "</div>"
      ],
      "text/plain": [
       "                  0          1\n",
       "0              Name  Timestamp\n",
       "1       Ben Affleck      19:27\n",
       "2        Elton John      19:27\n",
       "3   Jerry Seinfield      19:27\n",
       "4             Varad      19:27\n",
       "5             Varad      19:28\n",
       "6             Varad      19:28\n",
       "7             Varad      19:28\n",
       "8             Varad      19:28\n",
       "9             Varad      19:28\n",
       "10            Varad      19:28\n",
       "11            Varad      19:28\n",
       "12            Varad      19:28\n",
       "13            Varad      19:28\n",
       "14            Varad      19:28\n",
       "15            Varad   11:55 PM\n",
       "16            Varad   11:55 PM\n",
       "17            Varad   11:55 PM\n",
       "18            Varad   11:55 PM\n",
       "19            Varad   11:55 PM\n",
       "20            Varad   11:55 PM\n",
       "21            Varad   11:55 PM\n",
       "22            Varad   11:55 PM\n",
       "23            Varad   11:55 PM\n",
       "24            Varad   11:55 PM\n",
       "25            Varad   11:55 PM\n",
       "26            Varad   11:55 PM\n",
       "27            Varad   11:55 PM\n",
       "28            Varad   11:55 PM\n",
       "29            Varad   11:55 PM\n",
       "30            Varad   11:55 PM\n",
       "31            Varad   03:28 PM\n",
       "32            Varad   03:28 PM\n",
       "33            Varad   06:44 PM\n",
       "34            Varad   06:44 PM\n",
       "35            Varad   08:02 PM\n",
       "36            Varad   08:02 PM\n",
       "37            Varad   12:54 AM\n",
       "38            Varad   12:59 AM\n",
       "39            Varad   01:00 AM\n",
       "40            Varad   01:00 AM\n",
       "41            Varad   01:01 AM\n",
       "42            Varad   01:01 AM\n",
       "43            Varad   01:01 AM\n",
       "44            Varad   01:02 AM\n",
       "45            Varad   01:02 AM\n",
       "46            Varad   01:02 AM\n",
       "47            Varad   01:07 AM\n",
       "48            Varad   01:34 AM\n",
       "49            Varad   01:34 AM\n",
       "50            Varad   01:34 AM\n",
       "51            Varad   01:34 AM\n",
       "52            Varad   01:34 AM\n",
       "53            Varad   01:34 AM\n",
       "54            Varad   01:34 AM\n",
       "55            Kapil   10:25 AM"
      ]
     },
     "execution_count": 16,
     "metadata": {},
     "output_type": "execute_result"
    }
   ],
   "source": [
    "record"
   ]
  },
  {
   "cell_type": "code",
   "execution_count": 13,
   "id": "37b38304",
   "metadata": {},
   "outputs": [
    {
     "data": {
      "text/html": [
       "<div>\n",
       "<style scoped>\n",
       "    .dataframe tbody tr th:only-of-type {\n",
       "        vertical-align: middle;\n",
       "    }\n",
       "\n",
       "    .dataframe tbody tr th {\n",
       "        vertical-align: top;\n",
       "    }\n",
       "\n",
       "    .dataframe thead th {\n",
       "        text-align: right;\n",
       "    }\n",
       "</style>\n",
       "<table border=\"1\" class=\"dataframe\">\n",
       "  <thead>\n",
       "    <tr style=\"text-align: right;\">\n",
       "      <th></th>\n",
       "      <th>0</th>\n",
       "      <th>1</th>\n",
       "      <th>2</th>\n",
       "      <th>3</th>\n",
       "    </tr>\n",
       "  </thead>\n",
       "  <tbody>\n",
       "    <tr>\n",
       "      <th>0</th>\n",
       "      <td>Name</td>\n",
       "      <td>Timestamp</td>\n",
       "      <td>Initial Info</td>\n",
       "      <td>Recent visit speech</td>\n",
       "    </tr>\n",
       "    <tr>\n",
       "      <th>1</th>\n",
       "      <td>Ben Affleck</td>\n",
       "      <td>19:57</td>\n",
       "      <td>He is an actor</td>\n",
       "      <td>He spoke nicely</td>\n",
       "    </tr>\n",
       "    <tr>\n",
       "      <th>2</th>\n",
       "      <td>Elton John</td>\n",
       "      <td>19:57</td>\n",
       "      <td>He is the famous singer</td>\n",
       "      <td>He sang a song</td>\n",
       "    </tr>\n",
       "    <tr>\n",
       "      <th>3</th>\n",
       "      <td>Jerry Seinfield</td>\n",
       "      <td>19:57</td>\n",
       "      <td>He is a well known person</td>\n",
       "      <td>He visited you</td>\n",
       "    </tr>\n",
       "  </tbody>\n",
       "</table>\n",
       "</div>"
      ],
      "text/plain": [
       "                 0          1                          2                    3\n",
       "0             Name  Timestamp               Initial Info  Recent visit speech\n",
       "1      Ben Affleck      19:57             He is an actor      He spoke nicely\n",
       "2       Elton John      19:57    He is the famous singer       He sang a song\n",
       "3  Jerry Seinfield      19:57  He is a well known person       He visited you"
      ]
     },
     "execution_count": 13,
     "metadata": {},
     "output_type": "execute_result"
    }
   ],
   "source": [
    "record_2"
   ]
  },
  {
   "cell_type": "markdown",
   "id": "7a4cc0b5",
   "metadata": {},
   "source": [
    "# Real Time face recognition through Haar Cascade and LBPH"
   ]
  },
  {
   "cell_type": "code",
   "execution_count": 16,
   "id": "706d9079",
   "metadata": {},
   "outputs": [],
   "source": [
    "web_cam_vid = cv.VideoCapture(0)\n",
    "def Video_webcam(web_cam_vid):\n",
    "    \n",
    "    frame_width = int(web_cam_vid.get(3))\n",
    "    frame_height = int(web_cam_vid.get(4))\n",
    "    while True:\n",
    "        ret, frame = web_cam_vid.read()\n",
    "        if ret == True:\n",
    "        \n",
    "            gray = cv.cvtColor(frame,cv.COLOR_BGR2GRAY)\n",
    "            faces = haar_cascade.detectMultiScale(gray,1.3,5)\n",
    "            \n",
    "\n",
    "                \n",
    "            for(x,y,w,h) in faces:\n",
    "                        roi_color = frame[y:y+h,x:x+w]\n",
    "                        grayscale_roi = cv.cvtColor(roi_color,cv.COLOR_BGR2GRAY)\n",
    "                        frame_img = np.array(grayscale_roi)\n",
    "                        frame_img = frame_img/255\n",
    "                        (prediction, probability) = face_recognizer.predict(frame_img)\n",
    "                        face_name = list(labels_names.keys())[list(labels_names.values()).index(prediction)]\n",
    "                        print(probability)\n",
    "                        print(face_name)\n",
    "                        visit_info = [[face_name, datetime.now().strftime(\"%I:%M %p\")]]\n",
    "                        with open(filename, 'a', newline='') as csvfile:\n",
    "                            \n",
    "                                csvwriter = csv.writer(csvfile)\n",
    "                                csvwriter.writerows(visit_info)\n",
    "                                csvfile.close()\n",
    "                        text_to_speech_2(str(face_name))\n",
    "                        time.sleep(8)\n",
    "                        if int(probability) < 24:\n",
    "                            print(\"unknown person\")\n",
    "                            \n",
    "                        cv.rectangle(frame, (x, y), (x + w, y + h), (0, 255, 0), 2)\n",
    "                        cv.putText(frame, \"{}\".format(face_name), (x - 10, y - 10),cv.FONT_HERSHEY_SIMPLEX, 0.5, (0, 255, 0), 2)\n",
    "                        \n",
    "            cv.imshow('Frame',frame)\n",
    "            if cv.waitKey(40) & 0xFF == ord('q'):\n",
    "                break\n",
    "        else:\n",
    "            break\n",
    "\n",
    "    web_cam_vid.release()\n",
    "    cv.destroyAllWindows()"
   ]
  },
  {
   "cell_type": "code",
   "execution_count": 26,
   "id": "6380c546",
   "metadata": {},
   "outputs": [
    {
     "name": "stdout",
     "output_type": "stream",
     "text": [
      "26.853365152681707\n",
      "Varad\n",
      "26.942030546324105\n",
      "Varad\n"
     ]
    }
   ],
   "source": [
    "Video_webcam(web_cam_vid)"
   ]
  },
  {
   "cell_type": "code",
   "execution_count": 20,
   "id": "ce4ba125",
   "metadata": {},
   "outputs": [],
   "source": [
    "web_cam_vid.release()\n"
   ]
  },
  {
   "cell_type": "markdown",
   "id": "e08b2d39",
   "metadata": {},
   "source": [
    "# MTCNN on LBPH Real time"
   ]
  },
  {
   "cell_type": "code",
   "execution_count": null,
   "id": "eab466e6",
   "metadata": {},
   "outputs": [],
   "source": []
  },
  {
   "cell_type": "code",
   "execution_count": 19,
   "id": "8a1a3913",
   "metadata": {},
   "outputs": [],
   "source": [
    "def bounding_boxes_lms(image):\n",
    "    faces = face_detector.detect_faces(image)\n",
    "    if faces == []:\n",
    "        return None\n",
    "    bounding_box = faces[0]['box']\n",
    "    keypoints = faces[0]['keypoints']\n",
    "    cv.rectangle(image, (bounding_box[0], bounding_box[1]), (bounding_box[0]+bounding_box[2], bounding_box[1]+bounding_box[3]),(0,255,0),2)\n",
    "    image_info = [image, bounding_box[0], bounding_box[1]]\n",
    "    return image_info\n",
    "   \n"
   ]
  },
  {
   "cell_type": "code",
   "execution_count": 20,
   "id": "c637e821",
   "metadata": {},
   "outputs": [],
   "source": [
    "def talk_while_vid():\n",
    "    input=sr.Recognizer()\n",
    "    with sr.Microphone() as source:\n",
    "        audio=input.listen(source)\n",
    "        data=\"\"\n",
    "        try:\n",
    "            data=input.recognize_google(audio)\n",
    "            \n",
    "        except sr.UnknownValueError:\n",
    "            print(\"Sorry I did not hear your question, Please repeat again.\")\n",
    "        return data"
   ]
  },
  {
   "cell_type": "code",
   "execution_count": 21,
   "id": "26328778",
   "metadata": {},
   "outputs": [],
   "source": [
    "file_2 = open('record_2.csv')\n",
    "csvreader_2 = csv.reader(file_2)\n",
    "rows_2 = []\n",
    "for row in csvreader_2:\n",
    "        rows_2.append(row)\n"
   ]
  },
  {
   "cell_type": "code",
   "execution_count": 22,
   "id": "5bc63d2b",
   "metadata": {},
   "outputs": [
    {
     "name": "stdout",
     "output_type": "stream",
     "text": [
      "Varad 01:49 AM \n"
     ]
    }
   ],
   "source": [
    "print(rows_2[-1:][0][0], rows_2[-1:][0][1], rows_2[-1:][0][2])\n",
    "person_name = rows_2[-1:][0][0]\n",
    "timing_of_visit = rows_2[-1:][0][1]\n",
    "initial_info = rows_2[-1:][0][1]"
   ]
  },
  {
   "cell_type": "code",
   "execution_count": 23,
   "id": "e1641d4a",
   "metadata": {},
   "outputs": [],
   "source": [
    "web_cam_vid = cv.VideoCapture(0)\n",
    "def Video_webcam_mtcnn(web_cam_vid):\n",
    "    \n",
    "    frame_width = int(web_cam_vid.get(3))\n",
    "    frame_height = int(web_cam_vid.get(4))\n",
    "    while True:\n",
    "        ret, frame = web_cam_vid.read()\n",
    "        if ret == True:\n",
    "            img = cv.resize(frame, (380,270))\n",
    "            extracted_face = face_selection(img)\n",
    "            gray = cv.cvtColor(extracted_face,cv.COLOR_BGR2GRAY)\n",
    "            frame_img = np.array(gray)\n",
    "            frame_img = frame_img/255\n",
    "            (prediction, probability) = face_recognizer.predict(frame_img)\n",
    "            face_name = list(labels_names.keys())[list(labels_names.values()).index(prediction)]\n",
    "            print(probability,face_name)\n",
    "            if int(probability) < 24:\n",
    "                    print(\"unknown person\")\n",
    "#             visited_person_speech = talk_while_vid()\n",
    "#             visit_info = [[face_name, datetime.now().strftime(\"%I:%M %p\"),\"\", visited_person_speech]]\n",
    "            visit_info = [[face_name, datetime.now().strftime(\"%I:%M %p\")]]\n",
    "\n",
    "#             with open(filename_2, 'a', newline='') as csvfile:                \n",
    "#                         csvwriter = csv.writer(csvfile)\n",
    "#                         csvwriter.writerows(visit_info)\n",
    "#                         csvfile.close()\n",
    "            with open(filename, 'a', newline='') as csvfile:                \n",
    "                        csvwriter = csv.writer(csvfile)\n",
    "                        csvwriter.writerows(visit_info)\n",
    "                        csvfile.close()\n",
    "            text_to_speech_2(str(face_name))\n",
    "            time.sleep(2)\n",
    "            \n",
    "            frame_box = bounding_boxes_lms(frame)[0]\n",
    "            cv.putText(frame, \"{}\".format(face_name), (10, 10),cv.FONT_HERSHEY_SIMPLEX, 0.5, (0, 255, 0), 2)\n",
    "                        \n",
    "            cv.imshow('Frame',frame_box)\n",
    "            if cv.waitKey(35) & 0xFF == ord('q'):\n",
    "                break\n",
    "        else:\n",
    "            break\n",
    "\n",
    "    web_cam_vid.release()\n",
    "    cv.destroyAllWindows()"
   ]
  },
  {
   "cell_type": "markdown",
   "id": "9cf3e9e5",
   "metadata": {},
   "source": [
    "Once the confidence interval is above a threshold value model recognizes the face as known"
   ]
  },
  {
   "cell_type": "code",
   "execution_count": 26,
   "id": "47bf7fe0",
   "metadata": {},
   "outputs": [
    {
     "name": "stdout",
     "output_type": "stream",
     "text": [
      "29.53314048465977 Varad\n",
      "69.44736851552634 Varad\n",
      "55.173111967615256 Varad\n"
     ]
    }
   ],
   "source": [
    "Video_webcam_mtcnn(web_cam_vid)"
   ]
  },
  {
   "cell_type": "code",
   "execution_count": null,
   "id": "461ff305",
   "metadata": {},
   "outputs": [],
   "source": []
  },
  {
   "cell_type": "code",
   "execution_count": 25,
   "id": "062215a7",
   "metadata": {},
   "outputs": [],
   "source": [
    "from tensorflow.keras.models import load_model\n"
   ]
  },
  {
   "cell_type": "code",
   "execution_count": null,
   "id": "405e184e",
   "metadata": {},
   "outputs": [],
   "source": []
  },
  {
   "cell_type": "markdown",
   "id": "d6ce5c35",
   "metadata": {},
   "source": [
    "# Record Check"
   ]
  },
  {
   "cell_type": "code",
   "execution_count": 32,
   "id": "96c504e5",
   "metadata": {},
   "outputs": [],
   "source": [
    "record = pd.read_csv(r\"record.csv\", header=None)"
   ]
  },
  {
   "cell_type": "code",
   "execution_count": 33,
   "id": "7c85f87f",
   "metadata": {},
   "outputs": [],
   "source": [
    "record_2 = pd.read_csv(r\"record_2.csv\", header=None)"
   ]
  },
  {
   "cell_type": "code",
   "execution_count": 34,
   "id": "a317c92f",
   "metadata": {},
   "outputs": [
    {
     "data": {
      "text/html": [
       "<div>\n",
       "<style scoped>\n",
       "    .dataframe tbody tr th:only-of-type {\n",
       "        vertical-align: middle;\n",
       "    }\n",
       "\n",
       "    .dataframe tbody tr th {\n",
       "        vertical-align: top;\n",
       "    }\n",
       "\n",
       "    .dataframe thead th {\n",
       "        text-align: right;\n",
       "    }\n",
       "</style>\n",
       "<table border=\"1\" class=\"dataframe\">\n",
       "  <thead>\n",
       "    <tr style=\"text-align: right;\">\n",
       "      <th></th>\n",
       "      <th>0</th>\n",
       "      <th>1</th>\n",
       "      <th>2</th>\n",
       "      <th>3</th>\n",
       "    </tr>\n",
       "  </thead>\n",
       "  <tbody>\n",
       "    <tr>\n",
       "      <th>0</th>\n",
       "      <td>Name</td>\n",
       "      <td>Timestamp</td>\n",
       "      <td>Initial Info</td>\n",
       "      <td>Recent visit speech</td>\n",
       "    </tr>\n",
       "    <tr>\n",
       "      <th>1</th>\n",
       "      <td>Ben Affleck</td>\n",
       "      <td>19:57</td>\n",
       "      <td>He is an actor</td>\n",
       "      <td>He spoke nicely</td>\n",
       "    </tr>\n",
       "    <tr>\n",
       "      <th>2</th>\n",
       "      <td>Elton John</td>\n",
       "      <td>19:57</td>\n",
       "      <td>He is the famous singer</td>\n",
       "      <td>He sang a song</td>\n",
       "    </tr>\n",
       "    <tr>\n",
       "      <th>3</th>\n",
       "      <td>Jerry Seinfield</td>\n",
       "      <td>19:57</td>\n",
       "      <td>He is a well known person</td>\n",
       "      <td>He visited you</td>\n",
       "    </tr>\n",
       "    <tr>\n",
       "      <th>4</th>\n",
       "      <td>Varad</td>\n",
       "      <td>01:48 AM</td>\n",
       "      <td>NaN</td>\n",
       "      <td>hi hi</td>\n",
       "    </tr>\n",
       "    <tr>\n",
       "      <th>5</th>\n",
       "      <td>Varad</td>\n",
       "      <td>01:49 AM</td>\n",
       "      <td>NaN</td>\n",
       "      <td>NaN</td>\n",
       "    </tr>\n",
       "    <tr>\n",
       "      <th>6</th>\n",
       "      <td>Varad</td>\n",
       "      <td>01:49 AM</td>\n",
       "      <td>NaN</td>\n",
       "      <td>NaN</td>\n",
       "    </tr>\n",
       "  </tbody>\n",
       "</table>\n",
       "</div>"
      ],
      "text/plain": [
       "                 0          1                          2                    3\n",
       "0             Name  Timestamp               Initial Info  Recent visit speech\n",
       "1      Ben Affleck      19:57             He is an actor      He spoke nicely\n",
       "2       Elton John      19:57    He is the famous singer       He sang a song\n",
       "3  Jerry Seinfield      19:57  He is a well known person       He visited you\n",
       "4            Varad   01:48 AM                        NaN                hi hi\n",
       "5            Varad   01:49 AM                        NaN                  NaN\n",
       "6            Varad   01:49 AM                        NaN                  NaN"
      ]
     },
     "execution_count": 34,
     "metadata": {},
     "output_type": "execute_result"
    }
   ],
   "source": [
    "record_2"
   ]
  },
  {
   "cell_type": "code",
   "execution_count": 35,
   "id": "3ac7f227",
   "metadata": {},
   "outputs": [
    {
     "data": {
      "text/html": [
       "<div>\n",
       "<style scoped>\n",
       "    .dataframe tbody tr th:only-of-type {\n",
       "        vertical-align: middle;\n",
       "    }\n",
       "\n",
       "    .dataframe tbody tr th {\n",
       "        vertical-align: top;\n",
       "    }\n",
       "\n",
       "    .dataframe thead th {\n",
       "        text-align: right;\n",
       "    }\n",
       "</style>\n",
       "<table border=\"1\" class=\"dataframe\">\n",
       "  <thead>\n",
       "    <tr style=\"text-align: right;\">\n",
       "      <th></th>\n",
       "      <th>0</th>\n",
       "      <th>1</th>\n",
       "    </tr>\n",
       "  </thead>\n",
       "  <tbody>\n",
       "    <tr>\n",
       "      <th>0</th>\n",
       "      <td>Name</td>\n",
       "      <td>Timestamp</td>\n",
       "    </tr>\n",
       "    <tr>\n",
       "      <th>1</th>\n",
       "      <td>Ben Affleck</td>\n",
       "      <td>19:27</td>\n",
       "    </tr>\n",
       "    <tr>\n",
       "      <th>2</th>\n",
       "      <td>Elton John</td>\n",
       "      <td>19:27</td>\n",
       "    </tr>\n",
       "    <tr>\n",
       "      <th>3</th>\n",
       "      <td>Jerry Seinfield</td>\n",
       "      <td>19:27</td>\n",
       "    </tr>\n",
       "    <tr>\n",
       "      <th>4</th>\n",
       "      <td>Varad</td>\n",
       "      <td>19:27</td>\n",
       "    </tr>\n",
       "    <tr>\n",
       "      <th>...</th>\n",
       "      <td>...</td>\n",
       "      <td>...</td>\n",
       "    </tr>\n",
       "    <tr>\n",
       "      <th>56</th>\n",
       "      <td>Varad</td>\n",
       "      <td>10:34 AM</td>\n",
       "    </tr>\n",
       "    <tr>\n",
       "      <th>57</th>\n",
       "      <td>Varad</td>\n",
       "      <td>10:34 AM</td>\n",
       "    </tr>\n",
       "    <tr>\n",
       "      <th>58</th>\n",
       "      <td>Varad</td>\n",
       "      <td>10:34 AM</td>\n",
       "    </tr>\n",
       "    <tr>\n",
       "      <th>59</th>\n",
       "      <td>Varad</td>\n",
       "      <td>10:34 AM</td>\n",
       "    </tr>\n",
       "    <tr>\n",
       "      <th>60</th>\n",
       "      <td>Varad</td>\n",
       "      <td>10:34 AM</td>\n",
       "    </tr>\n",
       "  </tbody>\n",
       "</table>\n",
       "<p>61 rows × 2 columns</p>\n",
       "</div>"
      ],
      "text/plain": [
       "                  0          1\n",
       "0              Name  Timestamp\n",
       "1       Ben Affleck      19:27\n",
       "2        Elton John      19:27\n",
       "3   Jerry Seinfield      19:27\n",
       "4             Varad      19:27\n",
       "..              ...        ...\n",
       "56            Varad   10:34 AM\n",
       "57            Varad   10:34 AM\n",
       "58            Varad   10:34 AM\n",
       "59            Varad   10:34 AM\n",
       "60            Varad   10:34 AM\n",
       "\n",
       "[61 rows x 2 columns]"
      ]
     },
     "execution_count": 35,
     "metadata": {},
     "output_type": "execute_result"
    }
   ],
   "source": [
    "record"
   ]
  },
  {
   "cell_type": "markdown",
   "id": "4d588e4b",
   "metadata": {},
   "source": [
    "# Query Based"
   ]
  },
  {
   "cell_type": "code",
   "execution_count": 40,
   "id": "3183fcba",
   "metadata": {},
   "outputs": [],
   "source": [
    "file = open('record.csv')"
   ]
  },
  {
   "cell_type": "code",
   "execution_count": 41,
   "id": "f248ecae",
   "metadata": {},
   "outputs": [],
   "source": [
    "csvreader = csv.reader(file)"
   ]
  },
  {
   "cell_type": "code",
   "execution_count": 42,
   "id": "4535638b",
   "metadata": {},
   "outputs": [],
   "source": [
    "rows = []\n",
    "for row in csvreader:\n",
    "        rows.append(row)\n",
    "\n",
    "    "
   ]
  },
  {
   "cell_type": "code",
   "execution_count": 43,
   "id": "abc455c2",
   "metadata": {},
   "outputs": [
    {
     "name": "stdout",
     "output_type": "stream",
     "text": [
      "Varad 10:34 AM\n"
     ]
    }
   ],
   "source": [
    "print(rows[-1:][0][0], rows[-1:][0][1])\n",
    "person_name = rows[-1:][0][0]\n",
    "timing_of_visit = rows[-1:][0][1]"
   ]
  },
  {
   "cell_type": "code",
   "execution_count": null,
   "id": "4387c4f9",
   "metadata": {},
   "outputs": [],
   "source": []
  },
  {
   "cell_type": "code",
   "execution_count": 36,
   "id": "1cf4c0c5",
   "metadata": {},
   "outputs": [],
   "source": [
    "def talk():\n",
    "    input=sr.Recognizer()\n",
    "    with sr.Microphone() as source:\n",
    "        audio=input.listen(source)\n",
    "        data=\"\"\n",
    "        try:\n",
    "            data=input.recognize_google(audio)\n",
    "            print(data)\n",
    "            \n",
    "        except sr.UnknownValueError:\n",
    "            print(\"Sorry I did not hear your question, Please repeat again.\")\n",
    "        return data"
   ]
  },
  {
   "cell_type": "code",
   "execution_count": null,
   "id": "4eeafe8d",
   "metadata": {},
   "outputs": [],
   "source": []
  },
  {
   "cell_type": "code",
   "execution_count": 37,
   "id": "7ff20410",
   "metadata": {},
   "outputs": [],
   "source": [
    "def create_train():\n",
    "    for person in p:\n",
    "        path = os.path.join(DIR, person)\n",
    "        label = p.index(person)\n",
    "\n",
    "        for img in os.listdir(path)[:2400]:\n",
    "            img_path = os.path.join(path, img)\n",
    "            img_array = cv.imread(img_path)\n",
    "            gray = cv.cvtColor(img_array, cv.COLOR_BGR2GRAY)\n",
    "            face_rect = haar_cascade.detectMultiScale(gray, scaleFactor=1.1, minNeighbors=2)\n",
    "\n",
    "            for (x, y, w, h) in face_rect:\n",
    "                faces_roi = gray[y:y+h, x:x+w]\n",
    "                features.append(faces_roi)\n",
    "                labels.append(label)"
   ]
  },
  {
   "cell_type": "code",
   "execution_count": null,
   "id": "e9c429f3",
   "metadata": {},
   "outputs": [],
   "source": []
  },
  {
   "cell_type": "code",
   "execution_count": 30,
   "id": "166582fa",
   "metadata": {},
   "outputs": [],
   "source": [
    "def known_face_log(web_cam_vid, vistor_name):\n",
    "    num = 0\n",
    "    frame_width = int(web_cam_vid.get(3))\n",
    "    frame_height = int(web_cam_vid.get(4))\n",
    "    while True:\n",
    "        ret, frame = web_cam_vid.read()\n",
    "        if ret == True:       \n",
    "            gray = cv.cvtColor(frame,cv.COLOR_BGR2GRAY)\n",
    "            faces = haar_cascade.detectMultiScale(gray,1.3,5)\n",
    "            for(x,y,w,h) in faces:\n",
    "                        roi_color = frame[y:y+h,x:x+w]\n",
    "                        grayscale_roi = cv.cvtColor(roi_color,cv.COLOR_BGR2GRAY)\n",
    "                        frame_img = np.array(grayscale_roi)\n",
    "                        frame_img = frame_img/255\n",
    "                           \n",
    "                        cv.rectangle(frame, (x, y), (x + w, y + h), (0, 255, 0), 2)\n",
    "                        cv.putText(frame, \"{}\".format(face_name), (x - 10, y - 10),cv.FONT_HERSHEY_SIMPLEX, 0.5, (0, 255, 0), 2)\n",
    "                        cv.imwrite(path+f\"{path}\"+\"_\" +str(num), roi_color )\n",
    "            cv.imshow('Frame',frame)\n",
    "            num +=1\n",
    "            if cv.waitKey(40) & 0xFF == ord('q'):\n",
    "                break\n",
    "        else:\n",
    "            break\n",
    "\n",
    "    web_cam_vid.release()\n",
    "    cv.destroyAllWindows()"
   ]
  },
  {
   "cell_type": "code",
   "execution_count": 38,
   "id": "18b47d45",
   "metadata": {},
   "outputs": [],
   "source": [
    "import time"
   ]
  },
  {
   "cell_type": "code",
   "execution_count": 44,
   "id": "fd4d01b6",
   "metadata": {},
   "outputs": [
    {
     "name": "stdout",
     "output_type": "stream",
     "text": [
      "visited me today who visited me today\n",
      "show exit\n"
     ]
    }
   ],
   "source": [
    "while(1):\n",
    "        text=talk().lower()\n",
    "\n",
    "        if text==0:\n",
    "            continue\n",
    "            \n",
    "        if \"stop\" in str(text) or \"exit\" in str(text) or \"bye\" in str(text):\n",
    "            text_to_speech_2(\"Ok bye and take care\")\n",
    "            break\n",
    "        \n",
    "                  \n",
    "        elif 'time' in text:\n",
    "            current_time = datetime.now().strftime(\"%I:%M %p\")\n",
    "            text_to_speech_2(f\"the time is {current_time}\")     \n",
    "        \n",
    "            \n",
    "        elif 'visited' in text:\n",
    "            text_to_speech_2(f\"{person_name} visited you at {timing_of_visit}\")\n",
    "\n",
    "        else:\n",
    "            text_to_speech_2(\"Sorry sir, query not understood\")"
   ]
  },
  {
   "cell_type": "code",
   "execution_count": 34,
   "id": "4b4efc5c",
   "metadata": {},
   "outputs": [],
   "source": [
    "path_dir = r\"C:\\Users\\varad\\TY_Sem1\\Computer Vision\\Labs\\CoursePROJECT\\Updated_dataset\\Positive Images\""
   ]
  },
  {
   "cell_type": "code",
   "execution_count": null,
   "id": "cd6db049",
   "metadata": {},
   "outputs": [],
   "source": []
  }
 ],
 "metadata": {
  "kernelspec": {
   "display_name": "Python 3",
   "language": "python",
   "name": "python3"
  },
  "language_info": {
   "codemirror_mode": {
    "name": "ipython",
    "version": 3
   },
   "file_extension": ".py",
   "mimetype": "text/x-python",
   "name": "python",
   "nbconvert_exporter": "python",
   "pygments_lexer": "ipython3",
   "version": "3.8.8"
  }
 },
 "nbformat": 4,
 "nbformat_minor": 5
}
